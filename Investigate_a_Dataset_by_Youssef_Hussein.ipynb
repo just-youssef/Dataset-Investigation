{
 "cells": [
  {
   "cell_type": "markdown",
   "metadata": {},
   "source": [
    "# Project: Investigate a Dataset (tmdb-movies by Youssef Hussein)\n",
    "\n",
    "## Table of Contents\n",
    "<ul>\n",
    "<li><a href=\"#intro\">Introduction</a></li>\n",
    "<li><a href=\"#wrangling\">Data Wrangling</a></li>\n",
    "<li><a href=\"#eda\">Exploratory Data Analysis</a></li>\n",
    "<li><a href=\"#conclusions\">Conclusions</a></li>\n",
    "</ul>"
   ]
  },
  {
   "cell_type": "markdown",
   "metadata": {},
   "source": [
    "<a id='intro'></a>\n",
    "## Introduction\n",
    "- This data set contains information about 10,000 movies collected from The Movie Database (TMDb), including user ratings and revenue.\n",
    "- Certain columns, like ‘cast’ and ‘genres’, contain multiple values separated by pipe (|) characters.\n",
    "- The final two columns ending with “_adj” show the budget and revenue of the associated movie in terms of 2010 dollars, accounting for inflation over time."
   ]
  },
  {
   "cell_type": "code",
   "execution_count": 1,
   "metadata": {
    "collapsed": true
   },
   "outputs": [],
   "source": [
    "import pandas as pd\n",
    "import numpy as np\n",
    "import matplotlib.pyplot as plt\n",
    "%matplotlib inline\n",
    "pd.set_option('display.max_columns', 21)"
   ]
  },
  {
   "cell_type": "code",
   "execution_count": 2,
   "metadata": {
    "collapsed": true
   },
   "outputs": [
    {
     "data": {
      "text/html": [
       "<div>\n",
       "<style scoped>\n",
       "    .dataframe tbody tr th:only-of-type {\n",
       "        vertical-align: middle;\n",
       "    }\n",
       "\n",
       "    .dataframe tbody tr th {\n",
       "        vertical-align: top;\n",
       "    }\n",
       "\n",
       "    .dataframe thead th {\n",
       "        text-align: right;\n",
       "    }\n",
       "</style>\n",
       "<table border=\"1\" class=\"dataframe\">\n",
       "  <thead>\n",
       "    <tr style=\"text-align: right;\">\n",
       "      <th></th>\n",
       "      <th>id</th>\n",
       "      <th>imdb_id</th>\n",
       "      <th>popularity</th>\n",
       "      <th>budget</th>\n",
       "      <th>revenue</th>\n",
       "      <th>original_title</th>\n",
       "      <th>cast</th>\n",
       "      <th>homepage</th>\n",
       "      <th>director</th>\n",
       "      <th>tagline</th>\n",
       "      <th>keywords</th>\n",
       "      <th>overview</th>\n",
       "      <th>runtime</th>\n",
       "      <th>genres</th>\n",
       "      <th>production_companies</th>\n",
       "      <th>release_date</th>\n",
       "      <th>vote_count</th>\n",
       "      <th>vote_average</th>\n",
       "      <th>release_year</th>\n",
       "      <th>budget_adj</th>\n",
       "      <th>revenue_adj</th>\n",
       "    </tr>\n",
       "  </thead>\n",
       "  <tbody>\n",
       "    <tr>\n",
       "      <th>0</th>\n",
       "      <td>135397</td>\n",
       "      <td>tt0369610</td>\n",
       "      <td>32.985763</td>\n",
       "      <td>150000000</td>\n",
       "      <td>1513528810</td>\n",
       "      <td>Jurassic World</td>\n",
       "      <td>Chris Pratt|Bryce Dallas Howard|Irrfan Khan|Vi...</td>\n",
       "      <td>http://www.jurassicworld.com/</td>\n",
       "      <td>Colin Trevorrow</td>\n",
       "      <td>The park is open.</td>\n",
       "      <td>monster|dna|tyrannosaurus rex|velociraptor|island</td>\n",
       "      <td>Twenty-two years after the events of Jurassic ...</td>\n",
       "      <td>124</td>\n",
       "      <td>Action|Adventure|Science Fiction|Thriller</td>\n",
       "      <td>Universal Studios|Amblin Entertainment|Legenda...</td>\n",
       "      <td>6/9/15</td>\n",
       "      <td>5562</td>\n",
       "      <td>6.5</td>\n",
       "      <td>2015</td>\n",
       "      <td>1.379999e+08</td>\n",
       "      <td>1.392446e+09</td>\n",
       "    </tr>\n",
       "    <tr>\n",
       "      <th>1</th>\n",
       "      <td>76341</td>\n",
       "      <td>tt1392190</td>\n",
       "      <td>28.419936</td>\n",
       "      <td>150000000</td>\n",
       "      <td>378436354</td>\n",
       "      <td>Mad Max: Fury Road</td>\n",
       "      <td>Tom Hardy|Charlize Theron|Hugh Keays-Byrne|Nic...</td>\n",
       "      <td>http://www.madmaxmovie.com/</td>\n",
       "      <td>George Miller</td>\n",
       "      <td>What a Lovely Day.</td>\n",
       "      <td>future|chase|post-apocalyptic|dystopia|australia</td>\n",
       "      <td>An apocalyptic story set in the furthest reach...</td>\n",
       "      <td>120</td>\n",
       "      <td>Action|Adventure|Science Fiction|Thriller</td>\n",
       "      <td>Village Roadshow Pictures|Kennedy Miller Produ...</td>\n",
       "      <td>5/13/15</td>\n",
       "      <td>6185</td>\n",
       "      <td>7.1</td>\n",
       "      <td>2015</td>\n",
       "      <td>1.379999e+08</td>\n",
       "      <td>3.481613e+08</td>\n",
       "    </tr>\n",
       "  </tbody>\n",
       "</table>\n",
       "</div>"
      ],
      "text/plain": [
       "       id    imdb_id  popularity     budget     revenue      original_title  \\\n",
       "0  135397  tt0369610   32.985763  150000000  1513528810      Jurassic World   \n",
       "1   76341  tt1392190   28.419936  150000000   378436354  Mad Max: Fury Road   \n",
       "\n",
       "                                                cast  \\\n",
       "0  Chris Pratt|Bryce Dallas Howard|Irrfan Khan|Vi...   \n",
       "1  Tom Hardy|Charlize Theron|Hugh Keays-Byrne|Nic...   \n",
       "\n",
       "                        homepage         director             tagline  \\\n",
       "0  http://www.jurassicworld.com/  Colin Trevorrow   The park is open.   \n",
       "1    http://www.madmaxmovie.com/    George Miller  What a Lovely Day.   \n",
       "\n",
       "                                            keywords  \\\n",
       "0  monster|dna|tyrannosaurus rex|velociraptor|island   \n",
       "1   future|chase|post-apocalyptic|dystopia|australia   \n",
       "\n",
       "                                            overview  runtime  \\\n",
       "0  Twenty-two years after the events of Jurassic ...      124   \n",
       "1  An apocalyptic story set in the furthest reach...      120   \n",
       "\n",
       "                                      genres  \\\n",
       "0  Action|Adventure|Science Fiction|Thriller   \n",
       "1  Action|Adventure|Science Fiction|Thriller   \n",
       "\n",
       "                                production_companies release_date  vote_count  \\\n",
       "0  Universal Studios|Amblin Entertainment|Legenda...       6/9/15        5562   \n",
       "1  Village Roadshow Pictures|Kennedy Miller Produ...      5/13/15        6185   \n",
       "\n",
       "   vote_average  release_year    budget_adj   revenue_adj  \n",
       "0           6.5          2015  1.379999e+08  1.392446e+09  \n",
       "1           7.1          2015  1.379999e+08  3.481613e+08  "
      ]
     },
     "execution_count": 2,
     "metadata": {},
     "output_type": "execute_result"
    }
   ],
   "source": [
    "df = pd.read_csv('tmdb-movies.csv')\n",
    "df.head(2)"
   ]
  },
  {
   "cell_type": "markdown",
   "metadata": {},
   "source": [
    "## Questions\n",
    "### Q1: Which genres are most popular from year to year?\n",
    "### Q2: What kinds of properties are associated with movies that have high revenues?\n",
    "### Q3: What are the top 10 most successful movies at all times?"
   ]
  },
  {
   "cell_type": "markdown",
   "metadata": {},
   "source": [
    "<a id='wrangling'></a>\n",
    "## Data Wrangling (Handling unused and missing values)\n",
    "\n",
    "- Drop unnecessary columns: imdb_id, homepage, tagline, keywords and overview.\n",
    "- Drop duplicated id rows.\n",
    "- Handling missing values in the columns: cast, director, genres and production_companies.\n",
    "- Change release_date dytbe from string to datetime.\n",
    "- Change budget_adj and revenue_adj dtypes to int64.\n",
    "- Removing rows with 0 value in budget, budget_adj, revenue and revenue_adj columns."
   ]
  },
  {
   "cell_type": "markdown",
   "metadata": {},
   "source": [
    "### Note:\n",
    "I didn't understand why should I replace 0 with NaN in runtime column as mentioned in the previous Feedback.. Please explain!"
   ]
  },
  {
   "cell_type": "code",
   "execution_count": 3,
   "metadata": {
    "collapsed": true
   },
   "outputs": [
    {
     "data": {
      "text/plain": [
       "(10866, 21)"
      ]
     },
     "execution_count": 3,
     "metadata": {},
     "output_type": "execute_result"
    }
   ],
   "source": [
    "# print size\n",
    "df.shape"
   ]
  },
  {
   "cell_type": "code",
   "execution_count": 4,
   "metadata": {
    "collapsed": true
   },
   "outputs": [
    {
     "data": {
      "text/plain": [
       "1"
      ]
     },
     "execution_count": 4,
     "metadata": {},
     "output_type": "execute_result"
    }
   ],
   "source": [
    "# check for duplicates\n",
    "df.duplicated().sum()"
   ]
  },
  {
   "cell_type": "code",
   "execution_count": 5,
   "metadata": {
    "collapsed": true
   },
   "outputs": [
    {
     "data": {
      "text/plain": [
       "1"
      ]
     },
     "execution_count": 5,
     "metadata": {},
     "output_type": "execute_result"
    }
   ],
   "source": [
    "# check for rows with duplicated id\n",
    "df.id.duplicated().sum()"
   ]
  },
  {
   "cell_type": "code",
   "execution_count": 6,
   "metadata": {
    "collapsed": true
   },
   "outputs": [
    {
     "data": {
      "text/plain": [
       "id                         0\n",
       "imdb_id                   10\n",
       "popularity                 0\n",
       "budget                     0\n",
       "revenue                    0\n",
       "original_title             0\n",
       "cast                      76\n",
       "homepage                7930\n",
       "director                  44\n",
       "tagline                 2824\n",
       "keywords                1493\n",
       "overview                   4\n",
       "runtime                    0\n",
       "genres                    23\n",
       "production_companies    1030\n",
       "release_date               0\n",
       "vote_count                 0\n",
       "vote_average               0\n",
       "release_year               0\n",
       "budget_adj                 0\n",
       "revenue_adj                0\n",
       "dtype: int64"
      ]
     },
     "execution_count": 6,
     "metadata": {},
     "output_type": "execute_result"
    }
   ],
   "source": [
    "# check for na values\n",
    "df.isna().sum()"
   ]
  },
  {
   "cell_type": "code",
   "execution_count": 7,
   "metadata": {
    "collapsed": true
   },
   "outputs": [
    {
     "data": {
      "text/plain": [
       "id                        int64\n",
       "imdb_id                  object\n",
       "popularity              float64\n",
       "budget                    int64\n",
       "revenue                   int64\n",
       "original_title           object\n",
       "cast                     object\n",
       "homepage                 object\n",
       "director                 object\n",
       "tagline                  object\n",
       "keywords                 object\n",
       "overview                 object\n",
       "runtime                   int64\n",
       "genres                   object\n",
       "production_companies     object\n",
       "release_date             object\n",
       "vote_count                int64\n",
       "vote_average            float64\n",
       "release_year              int64\n",
       "budget_adj              float64\n",
       "revenue_adj             float64\n",
       "dtype: object"
      ]
     },
     "execution_count": 7,
     "metadata": {},
     "output_type": "execute_result"
    }
   ],
   "source": [
    "# check data types\n",
    "df.dtypes"
   ]
  },
  {
   "cell_type": "code",
   "execution_count": 8,
   "metadata": {
    "collapsed": true
   },
   "outputs": [
    {
     "data": {
      "text/plain": [
       "0.0    6016\n",
       "Name: revenue_adj, dtype: int64"
      ]
     },
     "execution_count": 8,
     "metadata": {},
     "output_type": "execute_result"
    }
   ],
   "source": [
    "# check rows with 0 values in columns: budget, revenue, budget_adj and revenue_adj\n",
    "df[df.budget == 0].budget.value_counts()\n",
    "df[df.revenue == 0].revenue.value_counts()\n",
    "df[df.budget_adj == 0].budget_adj.value_counts()\n",
    "df[df.revenue_adj == 0].revenue_adj.value_counts()"
   ]
  },
  {
   "cell_type": "markdown",
   "metadata": {},
   "source": [
    "### Data Cleaning"
   ]
  },
  {
   "cell_type": "code",
   "execution_count": 9,
   "metadata": {
    "collapsed": true
   },
   "outputs": [],
   "source": [
    "df.drop(['imdb_id', 'homepage', 'tagline', 'keywords', 'overview'], axis='columns', inplace=True)"
   ]
  },
  {
   "cell_type": "code",
   "execution_count": 10,
   "metadata": {
    "collapsed": true
   },
   "outputs": [],
   "source": [
    "# drop rows with duplicated id\n",
    "df.drop(df[df.id.duplicated()].index, inplace=True)"
   ]
  },
  {
   "cell_type": "code",
   "execution_count": 11,
   "metadata": {
    "collapsed": true
   },
   "outputs": [],
   "source": [
    "# remove rows with all null values\n",
    "df.dropna(axis='index', how='all', inplace=True)"
   ]
  },
  {
   "cell_type": "code",
   "execution_count": 12,
   "metadata": {
    "collapsed": true
   },
   "outputs": [],
   "source": [
    "# fill na with MISSING instead\n",
    "df.fillna('MISSING', inplace=True)"
   ]
  },
  {
   "cell_type": "code",
   "execution_count": 13,
   "metadata": {
    "collapsed": true
   },
   "outputs": [],
   "source": [
    "# convert release_date type\n",
    "df.release_date = pd.to_datetime(df.release_date, format='%m/%d/%y')"
   ]
  },
  {
   "cell_type": "code",
   "execution_count": 14,
   "metadata": {
    "collapsed": true
   },
   "outputs": [],
   "source": [
    "# convert budget_adj and revenue_ad type\n",
    "df.budget_adj = df.budget_adj.astype(np.int64)\n",
    "df.revenue_adj = df.revenue_adj.astype(np.int64)"
   ]
  },
  {
   "cell_type": "markdown",
   "metadata": {},
   "source": [
    "### Replace 0 values with mode value in columns: budget, revenue, budget_adj and revenue_adj"
   ]
  },
  {
   "cell_type": "code",
   "execution_count": 15,
   "metadata": {
    "collapsed": true
   },
   "outputs": [],
   "source": [
    "budget_mode = df[df.budget != 0].budget.mode()\n",
    "df.budget = df.budget.replace([0], budget_mode)"
   ]
  },
  {
   "cell_type": "code",
   "execution_count": 16,
   "metadata": {
    "collapsed": true
   },
   "outputs": [],
   "source": [
    "revenue_mode = df[df.revenue != 0].revenue.mode().astype(np.int64)\n",
    "df.budget = df.budget.replace([0], revenue_mode)"
   ]
  },
  {
   "cell_type": "code",
   "execution_count": 17,
   "metadata": {
    "collapsed": true
   },
   "outputs": [],
   "source": [
    "budget_adj_mode = df[df.budget_adj != 0].budget_adj.mode()[0]\n",
    "df.budget = df.budget.replace([0], budget_adj_mode)"
   ]
  },
  {
   "cell_type": "code",
   "execution_count": 18,
   "metadata": {
    "collapsed": true
   },
   "outputs": [],
   "source": [
    "revenue_adj_mode = df[df.revenue_adj != 0].revenue_adj.mode()\n",
    "df.budget = df.budget.replace([0], revenue_adj_mode)"
   ]
  },
  {
   "cell_type": "code",
   "execution_count": 19,
   "metadata": {
    "collapsed": true
   },
   "outputs": [
    {
     "data": {
      "text/plain": [
       "id                               int64\n",
       "popularity                     float64\n",
       "budget                           int64\n",
       "revenue                          int64\n",
       "original_title                  object\n",
       "cast                            object\n",
       "director                        object\n",
       "runtime                          int64\n",
       "genres                          object\n",
       "production_companies            object\n",
       "release_date            datetime64[ns]\n",
       "vote_count                       int64\n",
       "vote_average                   float64\n",
       "release_year                     int64\n",
       "budget_adj                       int64\n",
       "revenue_adj                      int64\n",
       "dtype: object"
      ]
     },
     "execution_count": 19,
     "metadata": {},
     "output_type": "execute_result"
    }
   ],
   "source": [
    "df.dtypes"
   ]
  },
  {
   "cell_type": "code",
   "execution_count": 20,
   "metadata": {
    "collapsed": true
   },
   "outputs": [
    {
     "data": {
      "text/plain": [
       "(3853, 16)"
      ]
     },
     "execution_count": 20,
     "metadata": {},
     "output_type": "execute_result"
    }
   ],
   "source": [
    "# drop rows with 0 value in budget, budget_adj, revenue and revenue_adj columns\n",
    "df.drop(df[df.budget==0].index, inplace=True)\n",
    "df.drop(df[df.budget_adj==0].index, inplace=True)\n",
    "df.drop(df[df.revenue==0].index, inplace=True)\n",
    "df.drop(df[df.revenue_adj==0].index, inplace=True)\n",
    "df.shape"
   ]
  },
  {
   "cell_type": "markdown",
   "metadata": {},
   "source": [
    "<a id='eda'></a>\n",
    "## Exploratory Data Analysis\n",
    "\n",
    "\n",
    "### Research Question 1 (Which genres are most popular from year to year?)"
   ]
  },
  {
   "cell_type": "code",
   "execution_count": 21,
   "metadata": {
    "collapsed": true
   },
   "outputs": [
    {
     "data": {
      "text/plain": [
       "3204"
      ]
     },
     "execution_count": 21,
     "metadata": {},
     "output_type": "execute_result"
    }
   ],
   "source": [
    "# extract df with multi genres values\n",
    "df.genres = df.genres.str.replace('|', ',')\n",
    "multi_genres_df = df[df.genres.str.contains(',')]\n",
    "multi_genres_df.genres.str.contains(',').sum()"
   ]
  },
  {
   "cell_type": "code",
   "execution_count": 22,
   "metadata": {
    "collapsed": true
   },
   "outputs": [],
   "source": [
    "# create 5 copies\n",
    "df1 = multi_genres_df.copy()\n",
    "df2 = multi_genres_df.copy()\n",
    "df3 = multi_genres_df.copy()\n",
    "df4 = multi_genres_df.copy()\n",
    "df5 = multi_genres_df.copy()"
   ]
  },
  {
   "cell_type": "code",
   "execution_count": 23,
   "metadata": {
    "collapsed": true
   },
   "outputs": [],
   "source": [
    "# extract every single genre\n",
    "df1.genres = df1.genres.apply(lambda x: x.split(',')[0])\n",
    "df2.genres = df2.genres.apply(lambda x: x.split(',')[1])\n",
    "df3.genres = df3.genres.apply(lambda x: x.split(',')[2] if len(x.split(','))>=3 else None)\n",
    "df4.genres = df4.genres.apply(lambda x: x.split(',')[3] if len(x.split(','))>=4 else None)\n",
    "df5.genres = df5.genres.apply(lambda x: x.split(',')[4] if len(x.split(','))>=5 else None)"
   ]
  },
  {
   "cell_type": "code",
   "execution_count": 24,
   "metadata": {
    "collapsed": true
   },
   "outputs": [],
   "source": [
    "# drop na values in df3, df4 and df5\n",
    "df3.dropna(inplace = True)\n",
    "df4.dropna(inplace = True)\n",
    "df5.dropna(inplace = True)"
   ]
  },
  {
   "cell_type": "code",
   "execution_count": 25,
   "metadata": {
    "collapsed": true
   },
   "outputs": [
    {
     "data": {
      "text/html": [
       "<div>\n",
       "<style scoped>\n",
       "    .dataframe tbody tr th:only-of-type {\n",
       "        vertical-align: middle;\n",
       "    }\n",
       "\n",
       "    .dataframe tbody tr th {\n",
       "        vertical-align: top;\n",
       "    }\n",
       "\n",
       "    .dataframe thead th {\n",
       "        text-align: right;\n",
       "    }\n",
       "</style>\n",
       "<table border=\"1\" class=\"dataframe\">\n",
       "  <thead>\n",
       "    <tr style=\"text-align: right;\">\n",
       "      <th></th>\n",
       "      <th>id</th>\n",
       "      <th>popularity</th>\n",
       "      <th>budget</th>\n",
       "      <th>revenue</th>\n",
       "      <th>original_title</th>\n",
       "      <th>cast</th>\n",
       "      <th>director</th>\n",
       "      <th>runtime</th>\n",
       "      <th>genres</th>\n",
       "      <th>production_companies</th>\n",
       "      <th>release_date</th>\n",
       "      <th>vote_count</th>\n",
       "      <th>vote_average</th>\n",
       "      <th>release_year</th>\n",
       "      <th>budget_adj</th>\n",
       "      <th>revenue_adj</th>\n",
       "    </tr>\n",
       "  </thead>\n",
       "  <tbody>\n",
       "    <tr>\n",
       "      <th>0</th>\n",
       "      <td>135397</td>\n",
       "      <td>32.985763</td>\n",
       "      <td>150000000</td>\n",
       "      <td>1513528810</td>\n",
       "      <td>Jurassic World</td>\n",
       "      <td>Chris Pratt|Bryce Dallas Howard|Irrfan Khan|Vi...</td>\n",
       "      <td>Colin Trevorrow</td>\n",
       "      <td>124</td>\n",
       "      <td>Action</td>\n",
       "      <td>Universal Studios|Amblin Entertainment|Legenda...</td>\n",
       "      <td>2015-06-09</td>\n",
       "      <td>5562</td>\n",
       "      <td>6.5</td>\n",
       "      <td>2015</td>\n",
       "      <td>137999939</td>\n",
       "      <td>1392445892</td>\n",
       "    </tr>\n",
       "    <tr>\n",
       "      <th>1</th>\n",
       "      <td>76341</td>\n",
       "      <td>28.419936</td>\n",
       "      <td>150000000</td>\n",
       "      <td>378436354</td>\n",
       "      <td>Mad Max: Fury Road</td>\n",
       "      <td>Tom Hardy|Charlize Theron|Hugh Keays-Byrne|Nic...</td>\n",
       "      <td>George Miller</td>\n",
       "      <td>120</td>\n",
       "      <td>Action</td>\n",
       "      <td>Village Roadshow Pictures|Kennedy Miller Produ...</td>\n",
       "      <td>2015-05-13</td>\n",
       "      <td>6185</td>\n",
       "      <td>7.1</td>\n",
       "      <td>2015</td>\n",
       "      <td>137999939</td>\n",
       "      <td>348161292</td>\n",
       "    </tr>\n",
       "  </tbody>\n",
       "</table>\n",
       "</div>"
      ],
      "text/plain": [
       "       id  popularity     budget     revenue      original_title  \\\n",
       "0  135397   32.985763  150000000  1513528810      Jurassic World   \n",
       "1   76341   28.419936  150000000   378436354  Mad Max: Fury Road   \n",
       "\n",
       "                                                cast         director  \\\n",
       "0  Chris Pratt|Bryce Dallas Howard|Irrfan Khan|Vi...  Colin Trevorrow   \n",
       "1  Tom Hardy|Charlize Theron|Hugh Keays-Byrne|Nic...    George Miller   \n",
       "\n",
       "   runtime  genres                               production_companies  \\\n",
       "0      124  Action  Universal Studios|Amblin Entertainment|Legenda...   \n",
       "1      120  Action  Village Roadshow Pictures|Kennedy Miller Produ...   \n",
       "\n",
       "  release_date  vote_count  vote_average  release_year  budget_adj  \\\n",
       "0   2015-06-09        5562           6.5          2015   137999939   \n",
       "1   2015-05-13        6185           7.1          2015   137999939   \n",
       "\n",
       "   revenue_adj  \n",
       "0   1392445892  \n",
       "1    348161292  "
      ]
     },
     "execution_count": 25,
     "metadata": {},
     "output_type": "execute_result"
    }
   ],
   "source": [
    "total_genres_df = pd.concat([df1, df2, df3, df4, df5])\n",
    "total_genres_df.head(2)"
   ]
  },
  {
   "cell_type": "code",
   "execution_count": 26,
   "metadata": {
    "collapsed": true
   },
   "outputs": [],
   "source": [
    "# drop the original multi grenes rows\n",
    "df.drop(multi_genres_df.index, inplace=True)"
   ]
  },
  {
   "cell_type": "code",
   "execution_count": 27,
   "metadata": {
    "collapsed": true
   },
   "outputs": [
    {
     "data": {
      "text/plain": [
       "(10301, 16)"
      ]
     },
     "execution_count": 27,
     "metadata": {},
     "output_type": "execute_result"
    }
   ],
   "source": [
    "# add in our newly separated rows\n",
    "df = df.append(total_genres_df)\n",
    "df.shape"
   ]
  },
  {
   "cell_type": "code",
   "execution_count": 28,
   "metadata": {
    "collapsed": true
   },
   "outputs": [
    {
     "data": {
      "text/html": [
       "<div>\n",
       "<style scoped>\n",
       "    .dataframe tbody tr th:only-of-type {\n",
       "        vertical-align: middle;\n",
       "    }\n",
       "\n",
       "    .dataframe tbody tr th {\n",
       "        vertical-align: top;\n",
       "    }\n",
       "\n",
       "    .dataframe thead th {\n",
       "        text-align: right;\n",
       "    }\n",
       "</style>\n",
       "<table border=\"1\" class=\"dataframe\">\n",
       "  <thead>\n",
       "    <tr style=\"text-align: right;\">\n",
       "      <th></th>\n",
       "      <th></th>\n",
       "      <th>popularity</th>\n",
       "    </tr>\n",
       "    <tr>\n",
       "      <th>release_year</th>\n",
       "      <th>genres</th>\n",
       "      <th></th>\n",
       "    </tr>\n",
       "  </thead>\n",
       "  <tbody>\n",
       "    <tr>\n",
       "      <th rowspan=\"5\" valign=\"top\">1960</th>\n",
       "      <th>Drama</th>\n",
       "      <td>4.694612</td>\n",
       "    </tr>\n",
       "    <tr>\n",
       "      <th>Action</th>\n",
       "      <td>3.009075</td>\n",
       "    </tr>\n",
       "    <tr>\n",
       "      <th>Horror</th>\n",
       "      <td>2.610362</td>\n",
       "    </tr>\n",
       "    <tr>\n",
       "      <th>Thriller</th>\n",
       "      <td>2.610362</td>\n",
       "    </tr>\n",
       "    <tr>\n",
       "      <th>Adventure</th>\n",
       "      <td>1.872132</td>\n",
       "    </tr>\n",
       "    <tr>\n",
       "      <th>...</th>\n",
       "      <th>...</th>\n",
       "      <td>...</td>\n",
       "    </tr>\n",
       "    <tr>\n",
       "      <th rowspan=\"5\" valign=\"top\">2015</th>\n",
       "      <th>Horror</th>\n",
       "      <td>25.595838</td>\n",
       "    </tr>\n",
       "    <tr>\n",
       "      <th>Western</th>\n",
       "      <td>15.009100</td>\n",
       "    </tr>\n",
       "    <tr>\n",
       "      <th>Music</th>\n",
       "      <td>12.522510</td>\n",
       "    </tr>\n",
       "    <tr>\n",
       "      <th>History</th>\n",
       "      <td>11.291968</td>\n",
       "    </tr>\n",
       "    <tr>\n",
       "      <th>War</th>\n",
       "      <td>9.716191</td>\n",
       "    </tr>\n",
       "  </tbody>\n",
       "</table>\n",
       "<p>842 rows × 1 columns</p>\n",
       "</div>"
      ],
      "text/plain": [
       "                        popularity\n",
       "release_year genres               \n",
       "1960         Drama        4.694612\n",
       "             Action       3.009075\n",
       "             Horror       2.610362\n",
       "             Thriller     2.610362\n",
       "             Adventure    1.872132\n",
       "...                            ...\n",
       "2015         Horror      25.595838\n",
       "             Western     15.009100\n",
       "             Music       12.522510\n",
       "             History     11.291968\n",
       "             War          9.716191\n",
       "\n",
       "[842 rows x 1 columns]"
      ]
     },
     "execution_count": 28,
     "metadata": {},
     "output_type": "execute_result"
    }
   ],
   "source": [
    "# group by release year and genres to get popularity for each genre per year\n",
    "pop_per_year = df.groupby(['release_year', 'genres'])[['popularity']].sum()\n",
    "\n",
    "# sort values by popularity to get the top genres per year\n",
    "pop_per_year.sort_values(by=['release_year', 'popularity'], ascending=[True, False], inplace=True)\n",
    "pop_per_year"
   ]
  },
  {
   "cell_type": "code",
   "execution_count": 29,
   "metadata": {
    "collapsed": true
   },
   "outputs": [
    {
     "data": {
      "text/html": [
       "<div>\n",
       "<style scoped>\n",
       "    .dataframe tbody tr th:only-of-type {\n",
       "        vertical-align: middle;\n",
       "    }\n",
       "\n",
       "    .dataframe tbody tr th {\n",
       "        vertical-align: top;\n",
       "    }\n",
       "\n",
       "    .dataframe thead th {\n",
       "        text-align: right;\n",
       "    }\n",
       "</style>\n",
       "<table border=\"1\" class=\"dataframe\">\n",
       "  <thead>\n",
       "    <tr style=\"text-align: right;\">\n",
       "      <th></th>\n",
       "      <th>release_year</th>\n",
       "      <th>genres</th>\n",
       "      <th>popularity</th>\n",
       "    </tr>\n",
       "  </thead>\n",
       "  <tbody>\n",
       "    <tr>\n",
       "      <th>0</th>\n",
       "      <td>1960</td>\n",
       "      <td>Drama</td>\n",
       "      <td>4.694612</td>\n",
       "    </tr>\n",
       "    <tr>\n",
       "      <th>9</th>\n",
       "      <td>1961</td>\n",
       "      <td>Comedy</td>\n",
       "      <td>4.978082</td>\n",
       "    </tr>\n",
       "    <tr>\n",
       "      <th>22</th>\n",
       "      <td>1962</td>\n",
       "      <td>Adventure</td>\n",
       "      <td>4.865526</td>\n",
       "    </tr>\n",
       "    <tr>\n",
       "      <th>30</th>\n",
       "      <td>1963</td>\n",
       "      <td>Thriller</td>\n",
       "      <td>4.092655</td>\n",
       "    </tr>\n",
       "    <tr>\n",
       "      <th>40</th>\n",
       "      <td>1964</td>\n",
       "      <td>Comedy</td>\n",
       "      <td>5.010488</td>\n",
       "    </tr>\n",
       "  </tbody>\n",
       "</table>\n",
       "</div>"
      ],
      "text/plain": [
       "    release_year     genres  popularity\n",
       "0           1960      Drama    4.694612\n",
       "9           1961     Comedy    4.978082\n",
       "22          1962  Adventure    4.865526\n",
       "30          1963   Thriller    4.092655\n",
       "40          1964     Comedy    5.010488"
      ]
     },
     "execution_count": 29,
     "metadata": {},
     "output_type": "execute_result"
    }
   ],
   "source": [
    "# reset index and drop duplicated years to get the max genre popularity for each year\n",
    "most_pop_per_year = pop_per_year.reset_index()\n",
    "most_pop_per_year.drop(most_pop_per_year[most_pop_per_year.release_year.duplicated()].index, inplace=True)\n",
    "most_pop_per_year.head()"
   ]
  },
  {
   "cell_type": "markdown",
   "metadata": {},
   "source": [
    "### Research Question 2  (What kinds of properties are associated with movies that have high revenues?)"
   ]
  },
  {
   "cell_type": "code",
   "execution_count": 30,
   "metadata": {
    "collapsed": true
   },
   "outputs": [
    {
     "data": {
      "text/html": [
       "<div>\n",
       "<style scoped>\n",
       "    .dataframe tbody tr th:only-of-type {\n",
       "        vertical-align: middle;\n",
       "    }\n",
       "\n",
       "    .dataframe tbody tr th {\n",
       "        vertical-align: top;\n",
       "    }\n",
       "\n",
       "    .dataframe thead th {\n",
       "        text-align: right;\n",
       "    }\n",
       "</style>\n",
       "<table border=\"1\" class=\"dataframe\">\n",
       "  <thead>\n",
       "    <tr style=\"text-align: right;\">\n",
       "      <th></th>\n",
       "      <th>revenue</th>\n",
       "      <th>original_title</th>\n",
       "      <th>budget</th>\n",
       "      <th>cast</th>\n",
       "      <th>director</th>\n",
       "      <th>genres</th>\n",
       "    </tr>\n",
       "  </thead>\n",
       "  <tbody>\n",
       "    <tr>\n",
       "      <th>1386</th>\n",
       "      <td>2781505847</td>\n",
       "      <td>Avatar</td>\n",
       "      <td>237000000</td>\n",
       "      <td>Sam Worthington|Zoe Saldana|Sigourney Weaver|S...</td>\n",
       "      <td>James Cameron</td>\n",
       "      <td>Fantasy</td>\n",
       "    </tr>\n",
       "    <tr>\n",
       "      <th>1386</th>\n",
       "      <td>2781505847</td>\n",
       "      <td>Avatar</td>\n",
       "      <td>237000000</td>\n",
       "      <td>Sam Worthington|Zoe Saldana|Sigourney Weaver|S...</td>\n",
       "      <td>James Cameron</td>\n",
       "      <td>Action</td>\n",
       "    </tr>\n",
       "    <tr>\n",
       "      <th>1386</th>\n",
       "      <td>2781505847</td>\n",
       "      <td>Avatar</td>\n",
       "      <td>237000000</td>\n",
       "      <td>Sam Worthington|Zoe Saldana|Sigourney Weaver|S...</td>\n",
       "      <td>James Cameron</td>\n",
       "      <td>Adventure</td>\n",
       "    </tr>\n",
       "    <tr>\n",
       "      <th>1386</th>\n",
       "      <td>2781505847</td>\n",
       "      <td>Avatar</td>\n",
       "      <td>237000000</td>\n",
       "      <td>Sam Worthington|Zoe Saldana|Sigourney Weaver|S...</td>\n",
       "      <td>James Cameron</td>\n",
       "      <td>Science Fiction</td>\n",
       "    </tr>\n",
       "    <tr>\n",
       "      <th>3</th>\n",
       "      <td>2068178225</td>\n",
       "      <td>Star Wars: The Force Awakens</td>\n",
       "      <td>200000000</td>\n",
       "      <td>Harrison Ford|Mark Hamill|Carrie Fisher|Adam D...</td>\n",
       "      <td>J.J. Abrams</td>\n",
       "      <td>Adventure</td>\n",
       "    </tr>\n",
       "  </tbody>\n",
       "</table>\n",
       "</div>"
      ],
      "text/plain": [
       "         revenue                original_title     budget  \\\n",
       "1386  2781505847                        Avatar  237000000   \n",
       "1386  2781505847                        Avatar  237000000   \n",
       "1386  2781505847                        Avatar  237000000   \n",
       "1386  2781505847                        Avatar  237000000   \n",
       "3     2068178225  Star Wars: The Force Awakens  200000000   \n",
       "\n",
       "                                                   cast       director  \\\n",
       "1386  Sam Worthington|Zoe Saldana|Sigourney Weaver|S...  James Cameron   \n",
       "1386  Sam Worthington|Zoe Saldana|Sigourney Weaver|S...  James Cameron   \n",
       "1386  Sam Worthington|Zoe Saldana|Sigourney Weaver|S...  James Cameron   \n",
       "1386  Sam Worthington|Zoe Saldana|Sigourney Weaver|S...  James Cameron   \n",
       "3     Harrison Ford|Mark Hamill|Carrie Fisher|Adam D...    J.J. Abrams   \n",
       "\n",
       "               genres  \n",
       "1386          Fantasy  \n",
       "1386           Action  \n",
       "1386        Adventure  \n",
       "1386  Science Fiction  \n",
       "3           Adventure  "
      ]
     },
     "execution_count": 30,
     "metadata": {},
     "output_type": "execute_result"
    }
   ],
   "source": [
    "# create a df that contains properties that is possible affect revenues\n",
    "where_to_look_df = df[['revenue', 'original_title', 'budget', 'cast', 'director', 'genres']]\n",
    "sorted_by_revenue_df = where_to_look_df.sort_values(by=['revenue'], ascending=False)\n",
    "sorted_by_revenue_df.head()"
   ]
  },
  {
   "cell_type": "code",
   "execution_count": 31,
   "metadata": {
    "collapsed": true
   },
   "outputs": [
    {
     "data": {
      "text/plain": [
       "array(['Action', 'Comedy', 'Drama', 'Horror', 'Thriller', 'Animation',\n",
       "       'Science Fiction', 'Documentary', 'Fantasy', 'War', 'Adventure',\n",
       "       'Music', 'Western', 'Romance', 'History', 'Mystery', 'Family',\n",
       "       'Crime', 'TV Movie', 'Foreign'], dtype=object)"
      ]
     },
     "execution_count": 31,
     "metadata": {},
     "output_type": "execute_result"
    }
   ],
   "source": [
    "# genres that repeated in the\n",
    "genres = where_to_look_df.genres.unique()\n",
    "genres"
   ]
  },
  {
   "cell_type": "code",
   "execution_count": 32,
   "metadata": {
    "collapsed": true
   },
   "outputs": [
    {
     "data": {
      "text/plain": [
       "{'Action': 156577156.78709677,\n",
       " 'Comedy': 97408293.99778923,\n",
       " 'Drama': 74327265.89009112,\n",
       " 'Horror': 57287803.583153345,\n",
       " 'Thriller': 97740462.8230897,\n",
       " 'Animation': 257121500.2039801,\n",
       " 'Science Fiction': 163933126.61657032,\n",
       " 'Documentary': 22524400.0,\n",
       " 'Fantasy': 218234134.3838384,\n",
       " 'War': 106032069.99159664,\n",
       " 'Adventure': 218291850.8504673,\n",
       " 'Music': 82667587.58823529,\n",
       " 'Western': 87412920.98076923,\n",
       " 'Romance': 85876756.71771772,\n",
       " 'History': 81405236.49612403,\n",
       " 'Mystery': 91045775.19476745,\n",
       " 'Family': 203153546.74117646,\n",
       " 'Crime': 84143092.41013825,\n",
       " 'TV Movie': 42000000.0,\n",
       " 'Foreign': 11115957.615384616}"
      ]
     },
     "execution_count": 32,
     "metadata": {},
     "output_type": "execute_result"
    }
   ],
   "source": [
    "# dict that contains top 50 genres that repeat in the df and their movies revenues mean\n",
    "revenue_mean_per_genres = {}\n",
    "for i in genres[:50]:\n",
    "    revenue_mean_per_genres[i] = where_to_look_df[where_to_look_df.genres == i].revenue.mean()\n",
    "revenue_mean_per_genres"
   ]
  },
  {
   "cell_type": "code",
   "execution_count": 33,
   "metadata": {
    "collapsed": true
   },
   "outputs": [
    {
     "data": {
      "image/png": "[encoded data removed]",
      "text/plain": [
       "<Figure size 1080x864 with 1 Axes>"
      ]
     },
     "metadata": {
      "needs_background": "light"
     },
     "output_type": "display_data"
    }
   ],
   "source": [
    "# compare movies revenues mean of each genre\n",
    "plt.subplots(figsize=(15,12))\n",
    "plt.xticks(rotation='vertical')\n",
    "plt.bar(revenue_mean_per_genres.keys(), revenue_mean_per_genres.values())\n",
    "plt.title(\"Movies Revenues Mean Per Genre\")\n",
    "plt.xlabel(\"Genres\")\n",
    "plt.ylabel(\"Movies Revenues Mean\");"
   ]
  },
  {
   "cell_type": "markdown",
   "metadata": {},
   "source": [
    "- Genres is one of properties that affect movie revenues.\n",
    "- Animation, Fantcy, Advnature and Family are the genres of movies that have the heighest revenue average over years."
   ]
  },
  {
   "cell_type": "code",
   "execution_count": 34,
   "metadata": {
    "collapsed": true
   },
   "outputs": [
    {
     "name": "stderr",
     "output_type": "stream",
     "text": [
      "C:\\Users\\Youssef Hussein\\anaconda3\\lib\\site-packages\\pandas\\core\\frame.py:4163: SettingWithCopyWarning: \n",
      "A value is trying to be set on a copy of a slice from a DataFrame\n",
      "\n",
      "See the caveats in the documentation: https://pandas.pydata.org/pandas-docs/stable/user_guide/indexing.html#returning-a-view-versus-a-copy\n",
      "  return super().drop(\n",
      "<ipython-input-34-f8c7d5527cc9>:3: SettingWithCopyWarning: \n",
      "A value is trying to be set on a copy of a slice from a DataFrame\n",
      "\n",
      "See the caveats in the documentation: https://pandas.pydata.org/pandas-docs/stable/user_guide/indexing.html#returning-a-view-versus-a-copy\n",
      "  where_to_look_df.drop_duplicates(inplace=True)\n"
     ]
    }
   ],
   "source": [
    "# drop genres and their copies to not affect other results \n",
    "where_to_look_df.drop('genres', axis='columns', inplace=True)\n",
    "where_to_look_df.drop_duplicates(inplace=True)"
   ]
  },
  {
   "cell_type": "code",
   "execution_count": 35,
   "metadata": {
    "collapsed": true
   },
   "outputs": [
    {
     "data": {
      "text/html": [
       "<div>\n",
       "<style scoped>\n",
       "    .dataframe tbody tr th:only-of-type {\n",
       "        vertical-align: middle;\n",
       "    }\n",
       "\n",
       "    .dataframe tbody tr th {\n",
       "        vertical-align: top;\n",
       "    }\n",
       "\n",
       "    .dataframe thead th {\n",
       "        text-align: right;\n",
       "    }\n",
       "</style>\n",
       "<table border=\"1\" class=\"dataframe\">\n",
       "  <thead>\n",
       "    <tr style=\"text-align: right;\">\n",
       "      <th></th>\n",
       "      <th>revenue</th>\n",
       "      <th>budget</th>\n",
       "    </tr>\n",
       "  </thead>\n",
       "  <tbody>\n",
       "    <tr>\n",
       "      <th>revenue</th>\n",
       "      <td>1.000000</td>\n",
       "      <td>0.688519</td>\n",
       "    </tr>\n",
       "    <tr>\n",
       "      <th>budget</th>\n",
       "      <td>0.688519</td>\n",
       "      <td>1.000000</td>\n",
       "    </tr>\n",
       "  </tbody>\n",
       "</table>\n",
       "</div>"
      ],
      "text/plain": [
       "          revenue    budget\n",
       "revenue  1.000000  0.688519\n",
       "budget   0.688519  1.000000"
      ]
     },
     "execution_count": 35,
     "metadata": {},
     "output_type": "execute_result"
    }
   ],
   "source": [
    "# check numerical correlations\n",
    "where_to_look_df.corr()"
   ]
  },
  {
   "cell_type": "code",
   "execution_count": 36,
   "metadata": {
    "collapsed": true
   },
   "outputs": [
    {
     "data": {
      "image/png": "[encoded data removed]",
      "text/plain": [
       "<Figure size 432x288 with 1 Axes>"
      ]
     },
     "metadata": {
      "needs_background": "light"
     },
     "output_type": "display_data"
    }
   ],
   "source": [
    "# relation between Budget vs Revenue\n",
    "plt.scatter(where_to_look_df.budget, where_to_look_df.revenue)\n",
    "plt.title(\"Budget vs Revenue\")\n",
    "plt.xlabel(\"Budget\")\n",
    "plt.ylabel(\"Revenue\");"
   ]
  },
  {
   "cell_type": "code",
   "execution_count": 37,
   "metadata": {
    "collapsed": true
   },
   "outputs": [
    {
     "name": "stderr",
     "output_type": "stream",
     "text": [
      "C:\\Users\\Youssef Hussein\\anaconda3\\lib\\site-packages\\pandas\\core\\generic.py:5168: SettingWithCopyWarning: \n",
      "A value is trying to be set on a copy of a slice from a DataFrame.\n",
      "Try using .loc[row_indexer,col_indexer] = value instead\n",
      "\n",
      "See the caveats in the documentation: https://pandas.pydata.org/pandas-docs/stable/user_guide/indexing.html#returning-a-view-versus-a-copy\n",
      "  self[name] = value\n",
      "C:\\Users\\Youssef Hussein\\anaconda3\\lib\\site-packages\\pandas\\core\\frame.py:4296: SettingWithCopyWarning: \n",
      "A value is trying to be set on a copy of a slice from a DataFrame\n",
      "\n",
      "See the caveats in the documentation: https://pandas.pydata.org/pandas-docs/stable/user_guide/indexing.html#returning-a-view-versus-a-copy\n",
      "  return super().rename(\n"
     ]
    }
   ],
   "source": [
    "# convert cast to main actor to see if actors affect revenues\n",
    "where_to_look_df.cast = where_to_look_df.cast.apply(lambda x: x.split('|')[0])\n",
    "where_to_look_df.rename(columns={'cast':'main_actor'}, inplace=True)"
   ]
  },
  {
   "cell_type": "code",
   "execution_count": 38,
   "metadata": {
    "collapsed": true
   },
   "outputs": [],
   "source": [
    "# actors that repeated in the\n",
    "actors = where_to_look_df.main_actor.unique()"
   ]
  },
  {
   "cell_type": "code",
   "execution_count": 39,
   "metadata": {
    "collapsed": true
   },
   "outputs": [
    {
     "data": {
      "text/plain": [
       "{'Tom Cruise': 296922046.9259259,\n",
       " 'Mark Wahlberg': 129199847.36842105,\n",
       " 'Robert De Niro': 85417799.85714285,\n",
       " 'Bradley Cooper': 206524372.0,\n",
       " 'Eddie Redmayne': 92696731.5,\n",
       " 'Michael B. Jordan': 137935567.0,\n",
       " 'Amy Schumer': 140795793.0,\n",
       " 'Will Smith': 340846111.1333333,\n",
       " 'Joseph Gordon-Levitt': 41086139.9,\n",
       " 'Arnold Schwarzenegger': 156670661.26923078,\n",
       " 'Will Ferrell': 136663825.3846154,\n",
       " 'Kate Winslet': 405276451.4,\n",
       " 'Shannyn Sossamon': 52882018.0,\n",
       " 'Jennifer Lopez': 91456804.8,\n",
       " 'Jeremy Piven': 26807089.0,\n",
       " 'Kevin Hart': 66327997.333333336,\n",
       " 'Helen Mirren': 60662023.222222224,\n",
       " 'Tina Fey': 62281500.666666664,\n",
       " 'Bryan Cranston': 29300519.0,\n",
       " 'Robert Redford': 74645882.08333333,\n",
       " 'Andrew Garfield': 486448405.3333333,\n",
       " 'Rob Corddry': 12314651.0,\n",
       " 'Al Pacino': 66999065.058823526,\n",
       " 'Vince Vaughn': 93827216.75,\n",
       " 'Kevin Costner': 105868752.4,\n",
       " 'Kate Bosworth': 22590982.333333332,\n",
       " 'Priscilla C. Shirer': 67790117.0,\n",
       " 'Jeremy Irvine': 11248448.5,\n",
       " 'Cameron Diaz': 168763056.2,\n",
       " 'Jason Bateman': 56599097.25,\n",
       " 'Olivia Cooke': 102529779.0,\n",
       " 'Jake Johnson': 136621271.0,\n",
       " 'Nicole Kidman': 108465491.66666667,\n",
       " 'Jennifer Aniston': 81302780.44444445,\n",
       " 'Jon Favreau': 20124089.666666668,\n",
       " 'Ellar Coltrane': 44349000.0,\n",
       " 'Robert Downey Jr.': 576750082.9090909,\n",
       " 'Drew Barrymore': 73234663.2,\n",
       " 'Seth Rogen': 172463345.75,\n",
       " 'ChloÃ« Grace Moretz': 80634565.5,\n",
       " 'Jim Carrey': 174360905.91304347,\n",
       " 'Anne Dorval': 3494070.0,\n",
       " 'Reese Witherspoon': 98097174.77777778,\n",
       " 'Bill Murray': 100271893.75,\n",
       " 'Amy Adams': 58214366.2,\n",
       " 'Idris Elba': 122213524.5,\n",
       " 'Julianne Moore': 35180387.0,\n",
       " 'Elizabeth Banks': 59209.0,\n",
       " 'Annabelle Wallis': 255273813.0,\n",
       " 'Melissa McCarthy': 168095825.5}"
      ]
     },
     "execution_count": 39,
     "metadata": {},
     "output_type": "execute_result"
    }
   ],
   "source": [
    "revenue_mean_per_actor = {}\n",
    "for i in actors[:50]:\n",
    "    revenue_mean_per_actor[i] = where_to_look_df[where_to_look_df.main_actor == i].revenue.mean()\n",
    "revenue_mean_per_actor"
   ]
  },
  {
   "cell_type": "code",
   "execution_count": 40,
   "metadata": {
    "collapsed": true
   },
   "outputs": [
    {
     "data": {
      "image/png": "[encoded data removed]",
      "text/plain": [
       "<Figure size 1080x864 with 1 Axes>"
      ]
     },
     "metadata": {
      "needs_background": "light"
     },
     "output_type": "display_data"
    }
   ],
   "source": [
    "# compare movies revenues mean of each actor\n",
    "plt.subplots(figsize=(15,12))\n",
    "plt.xticks(rotation='vertical')\n",
    "plt.bar(revenue_mean_per_actor.keys(), revenue_mean_per_actor.values())\n",
    "plt.title(\"Movies Revenues Mean Per Actor\")\n",
    "plt.xlabel(\"Main Actor\")\n",
    "plt.ylabel(\"Movies Revenues Mean\");"
   ]
  },
  {
   "cell_type": "markdown",
   "metadata": {},
   "source": [
    "- Cast is one of properties that affect movie revenues.\n",
    "- Robert Downey Jr, Andrew Garfield, Kate Winslet and Will Smith are the actors that their movies have the heighest revenue average over years."
   ]
  },
  {
   "cell_type": "code",
   "execution_count": 41,
   "metadata": {
    "collapsed": true
   },
   "outputs": [
    {
     "data": {
      "text/plain": [
       "array(['Christopher McQuarrie', 'Seth MacFarlane', 'Nancy Meyers', ...,\n",
       "       'Don Taylor|Mike Hodges', 'Martin Rosen', 'Howard Hawks'],\n",
       "      dtype=object)"
      ]
     },
     "execution_count": 41,
     "metadata": {},
     "output_type": "execute_result"
    }
   ],
   "source": [
    "# directors that repeated in the\n",
    "directors = where_to_look_df.director.unique()\n",
    "directors"
   ]
  },
  {
   "cell_type": "code",
   "execution_count": 42,
   "metadata": {
    "collapsed": true
   },
   "outputs": [
    {
     "data": {
      "text/plain": [
       "{'Christopher McQuarrie': 450335367.0,\n",
       " 'Seth MacFarlane': 382615960.5,\n",
       " 'Nancy Meyers': 249735494.4,\n",
       " 'John Wells': 38559419.0,\n",
       " 'Tom Hooper': 306737614.0,\n",
       " 'Ryan Coogler': 137935567.0,\n",
       " 'Judd Apatow': 123767863.2,\n",
       " 'Peter Landesman': 24638611.5,\n",
       " 'Jonathan Levine': 52866104.0,\n",
       " 'Henry Hobson': 187112.0,\n",
       " 'Sean Anders': 105955013.0,\n",
       " 'Jocelyn Moorhouse': 20957065.0,\n",
       " 'Ciaran Foy': 52882018.0,\n",
       " 'Rob Cohen': 141631099.1,\n",
       " 'Doug Ellin': 49263404.0,\n",
       " 'Jeremy Garelick': 79799880.0,\n",
       " 'Simon Curtis': 48338734.5,\n",
       " 'Jason Moore': 110180739.5,\n",
       " 'Jay Roach': 203232078.375,\n",
       " 'Etan Cohen': 106511453.0,\n",
       " 'James Vanderbilt': 2541554.0,\n",
       " 'Ramin Bahrani': 1411927.0,\n",
       " 'Steve Pink': 41098651.5,\n",
       " 'David Gordon Green': 28699916.333333332,\n",
       " 'Ken Scott': 32797679.5,\n",
       " 'Mike Binder': 21896748.5,\n",
       " 'Michael Polish': 7986794.0,\n",
       " 'Alex Kendrick': 36486746.5,\n",
       " 'Roland Emmerich': 377036174.8888889,\n",
       " 'Jake Kasdan': 90641122.5,\n",
       " 'Stiles White': 102529779.0,\n",
       " 'Luke Greenfield': 77926777.25,\n",
       " 'Paul King': 259207227.0,\n",
       " 'Daniel Barnz': 22762926.0,\n",
       " 'Jon Favreau': 239013413.14285713,\n",
       " 'Richard Linklater': 30444542.454545453,\n",
       " 'David Dobkin': 126101680.4,\n",
       " 'Frank Coraci': 152084366.0,\n",
       " 'Nicholas Stoller': 129317480.5,\n",
       " 'R.J. Cutler': 78874843.0,\n",
       " 'Bobby Farrelly|Peter Farrelly': 106943817.6,\n",
       " 'Xavier Dolan': 3494070.0,\n",
       " 'Jean-Marc VallÃ©e': 45036571.666666664,\n",
       " 'Theodore Melfi': 54837234.0,\n",
       " 'Lasse HallstrÃ¶m': 72298848.22222222,\n",
       " 'Tim Burton': 229088414.0,\n",
       " 'Sam Miller': 53830415.0,\n",
       " 'Richard Glatzer|Wash Westmoreland': 41797583.0,\n",
       " 'Steven Brill': 80319954.0,\n",
       " 'John R. Leonetti': 153325337.0}"
      ]
     },
     "execution_count": 42,
     "metadata": {},
     "output_type": "execute_result"
    }
   ],
   "source": [
    "# dict that contains top 50 director that repeat in the df and their movies revenues mean\n",
    "revenue_mean_per_director = {}\n",
    "for i in directors[:50]:\n",
    "    revenue_mean_per_director[i] = where_to_look_df[where_to_look_df.director == i].revenue.mean()\n",
    "revenue_mean_per_director"
   ]
  },
  {
   "cell_type": "code",
   "execution_count": 43,
   "metadata": {
    "collapsed": true
   },
   "outputs": [
    {
     "data": {
      "image/png": "[encoded data removed]",
      "text/plain": [
       "<Figure size 1080x864 with 1 Axes>"
      ]
     },
     "metadata": {
      "needs_background": "light"
     },
     "output_type": "display_data"
    }
   ],
   "source": [
    "# compare movies revenues mean of each director \n",
    "plt.subplots(figsize=(15,12))\n",
    "plt.xticks(rotation='vertical')\n",
    "plt.bar(revenue_mean_per_director.keys(), revenue_mean_per_director.values())\n",
    "plt.title(\"Movies Revenues Mean Per Director\")\n",
    "plt.xlabel(\"Director\")\n",
    "plt.ylabel(\"Movies Revenues Mean\");"
   ]
  },
  {
   "cell_type": "markdown",
   "metadata": {},
   "source": [
    "- Director is one of properties that affect movie revenues.\n",
    "- Christopher McQuarrie, Seth MacFarlane, Roland Emmerich and Tom Hooper are the directors that their movies have the heighest revenue average over years."
   ]
  },
  {
   "cell_type": "markdown",
   "metadata": {},
   "source": [
    "### Research Question 3 (What are the top 10 most successful movies at all times?)\n",
    "By finding top 10 movies with max revenue_adj and least budget_adj then subtract budget_adj from revenue_adj to calculate the diffrence then sort according it"
   ]
  },
  {
   "cell_type": "code",
   "execution_count": 44,
   "metadata": {
    "collapsed": true
   },
   "outputs": [
    {
     "name": "stderr",
     "output_type": "stream",
     "text": [
      "<ipython-input-44-2e9619b8a2f3>:2: SettingWithCopyWarning: \n",
      "A value is trying to be set on a copy of a slice from a DataFrame\n",
      "\n",
      "See the caveats in the documentation: https://pandas.pydata.org/pandas-docs/stable/user_guide/indexing.html#returning-a-view-versus-a-copy\n",
      "  top10.drop_duplicates(inplace=True)\n"
     ]
    },
    {
     "data": {
      "text/html": [
       "<div>\n",
       "<style scoped>\n",
       "    .dataframe tbody tr th:only-of-type {\n",
       "        vertical-align: middle;\n",
       "    }\n",
       "\n",
       "    .dataframe tbody tr th {\n",
       "        vertical-align: top;\n",
       "    }\n",
       "\n",
       "    .dataframe thead th {\n",
       "        text-align: right;\n",
       "    }\n",
       "</style>\n",
       "<table border=\"1\" class=\"dataframe\">\n",
       "  <thead>\n",
       "    <tr style=\"text-align: right;\">\n",
       "      <th></th>\n",
       "      <th>original_title</th>\n",
       "      <th>revenue_adj</th>\n",
       "      <th>budget_adj</th>\n",
       "    </tr>\n",
       "  </thead>\n",
       "  <tbody>\n",
       "    <tr>\n",
       "      <th>25</th>\n",
       "      <td>Mission: Impossible - Rogue Nation</td>\n",
       "      <td>627743451</td>\n",
       "      <td>137999939</td>\n",
       "    </tr>\n",
       "    <tr>\n",
       "      <th>26</th>\n",
       "      <td>Ted 2</td>\n",
       "      <td>198594430</td>\n",
       "      <td>62559972</td>\n",
       "    </tr>\n",
       "    <tr>\n",
       "      <th>51</th>\n",
       "      <td>The Intern</td>\n",
       "      <td>178999419</td>\n",
       "      <td>32199985</td>\n",
       "    </tr>\n",
       "    <tr>\n",
       "      <th>55</th>\n",
       "      <td>Burnt</td>\n",
       "      <td>33678188</td>\n",
       "      <td>18399991</td>\n",
       "    </tr>\n",
       "    <tr>\n",
       "      <th>58</th>\n",
       "      <td>The Danish Girl</td>\n",
       "      <td>59056175</td>\n",
       "      <td>13799993</td>\n",
       "    </tr>\n",
       "    <tr>\n",
       "      <th>...</th>\n",
       "      <td>...</td>\n",
       "      <td>...</td>\n",
       "      <td>...</td>\n",
       "    </tr>\n",
       "    <tr>\n",
       "      <th>10793</th>\n",
       "      <td>Watership Down</td>\n",
       "      <td>12414014</td>\n",
       "      <td>3342700</td>\n",
       "    </tr>\n",
       "    <tr>\n",
       "      <th>10828</th>\n",
       "      <td>Torn Curtain</td>\n",
       "      <td>87334190</td>\n",
       "      <td>20154044</td>\n",
       "    </tr>\n",
       "    <tr>\n",
       "      <th>10829</th>\n",
       "      <td>El Dorado</td>\n",
       "      <td>40308088</td>\n",
       "      <td>31258922</td>\n",
       "    </tr>\n",
       "    <tr>\n",
       "      <th>10835</th>\n",
       "      <td>The Sand Pebbles</td>\n",
       "      <td>134360293</td>\n",
       "      <td>80616176</td>\n",
       "    </tr>\n",
       "    <tr>\n",
       "      <th>10848</th>\n",
       "      <td>Fantastic Voyage</td>\n",
       "      <td>80616176</td>\n",
       "      <td>34362645</td>\n",
       "    </tr>\n",
       "  </tbody>\n",
       "</table>\n",
       "<p>3853 rows × 3 columns</p>\n",
       "</div>"
      ],
      "text/plain": [
       "                           original_title  revenue_adj  budget_adj\n",
       "25     Mission: Impossible - Rogue Nation    627743451   137999939\n",
       "26                                  Ted 2    198594430    62559972\n",
       "51                             The Intern    178999419    32199985\n",
       "55                                  Burnt     33678188    18399991\n",
       "58                        The Danish Girl     59056175    13799993\n",
       "...                                   ...          ...         ...\n",
       "10793                      Watership Down     12414014     3342700\n",
       "10828                        Torn Curtain     87334190    20154044\n",
       "10829                           El Dorado     40308088    31258922\n",
       "10835                    The Sand Pebbles    134360293    80616176\n",
       "10848                    Fantastic Voyage     80616176    34362645\n",
       "\n",
       "[3853 rows x 3 columns]"
      ]
     },
     "execution_count": 44,
     "metadata": {},
     "output_type": "execute_result"
    }
   ],
   "source": [
    "top10 = df[['original_title', 'revenue_adj', 'budget_adj']]\n",
    "top10.drop_duplicates(inplace=True)\n",
    "top10"
   ]
  },
  {
   "cell_type": "code",
   "execution_count": 45,
   "metadata": {
    "collapsed": true
   },
   "outputs": [
    {
     "data": {
      "text/html": [
       "<div>\n",
       "<style scoped>\n",
       "    .dataframe tbody tr th:only-of-type {\n",
       "        vertical-align: middle;\n",
       "    }\n",
       "\n",
       "    .dataframe tbody tr th {\n",
       "        vertical-align: top;\n",
       "    }\n",
       "\n",
       "    .dataframe thead th {\n",
       "        text-align: right;\n",
       "    }\n",
       "</style>\n",
       "<table border=\"1\" class=\"dataframe\">\n",
       "  <thead>\n",
       "    <tr style=\"text-align: right;\">\n",
       "      <th></th>\n",
       "      <th>original_title</th>\n",
       "      <th>revenue_adj</th>\n",
       "      <th>budget_adj</th>\n",
       "      <th>actual_revenue</th>\n",
       "    </tr>\n",
       "  </thead>\n",
       "  <tbody>\n",
       "    <tr>\n",
       "      <th>1386</th>\n",
       "      <td>Avatar</td>\n",
       "      <td>2827123750</td>\n",
       "      <td>240886902</td>\n",
       "      <td>2586236848</td>\n",
       "    </tr>\n",
       "    <tr>\n",
       "      <th>1329</th>\n",
       "      <td>Star Wars</td>\n",
       "      <td>2789712242</td>\n",
       "      <td>39575591</td>\n",
       "      <td>2750136651</td>\n",
       "    </tr>\n",
       "    <tr>\n",
       "      <th>5231</th>\n",
       "      <td>Titanic</td>\n",
       "      <td>2506405735</td>\n",
       "      <td>271692064</td>\n",
       "      <td>2234713671</td>\n",
       "    </tr>\n",
       "    <tr>\n",
       "      <th>10594</th>\n",
       "      <td>The Exorcist</td>\n",
       "      <td>2167324901</td>\n",
       "      <td>39289276</td>\n",
       "      <td>2128035625</td>\n",
       "    </tr>\n",
       "    <tr>\n",
       "      <th>9806</th>\n",
       "      <td>Jaws</td>\n",
       "      <td>1907005841</td>\n",
       "      <td>28362748</td>\n",
       "      <td>1878643093</td>\n",
       "    </tr>\n",
       "    <tr>\n",
       "      <th>3</th>\n",
       "      <td>Star Wars: The Force Awakens</td>\n",
       "      <td>1902723129</td>\n",
       "      <td>183999919</td>\n",
       "      <td>1718723210</td>\n",
       "    </tr>\n",
       "    <tr>\n",
       "      <th>8889</th>\n",
       "      <td>E.T. the Extra-Terrestrial</td>\n",
       "      <td>1791694309</td>\n",
       "      <td>23726245</td>\n",
       "      <td>1767968064</td>\n",
       "    </tr>\n",
       "    <tr>\n",
       "      <th>8094</th>\n",
       "      <td>The Net</td>\n",
       "      <td>1583049536</td>\n",
       "      <td>31481271</td>\n",
       "      <td>1551568265</td>\n",
       "    </tr>\n",
       "    <tr>\n",
       "      <th>10110</th>\n",
       "      <td>One Hundred and One Dalmatians</td>\n",
       "      <td>1574814739</td>\n",
       "      <td>29179444</td>\n",
       "      <td>1545635295</td>\n",
       "    </tr>\n",
       "    <tr>\n",
       "      <th>4361</th>\n",
       "      <td>The Avengers</td>\n",
       "      <td>1443191435</td>\n",
       "      <td>208943741</td>\n",
       "      <td>1234247694</td>\n",
       "    </tr>\n",
       "  </tbody>\n",
       "</table>\n",
       "</div>"
      ],
      "text/plain": [
       "                       original_title  revenue_adj  budget_adj  actual_revenue\n",
       "1386                           Avatar   2827123750   240886902      2586236848\n",
       "1329                        Star Wars   2789712242    39575591      2750136651\n",
       "5231                          Titanic   2506405735   271692064      2234713671\n",
       "10594                    The Exorcist   2167324901    39289276      2128035625\n",
       "9806                             Jaws   1907005841    28362748      1878643093\n",
       "3        Star Wars: The Force Awakens   1902723129   183999919      1718723210\n",
       "8889       E.T. the Extra-Terrestrial   1791694309    23726245      1767968064\n",
       "8094                          The Net   1583049536    31481271      1551568265\n",
       "10110  One Hundred and One Dalmatians   1574814739    29179444      1545635295\n",
       "4361                     The Avengers   1443191435   208943741      1234247694"
      ]
     },
     "execution_count": 45,
     "metadata": {},
     "output_type": "execute_result"
    }
   ],
   "source": [
    "top10 = top10.sort_values(by=['revenue_adj', 'budget_adj'], ascending=[False, True]).head(10)\n",
    "top10['actual_revenue'] = top10['revenue_adj'] - top10['budget_adj']\n",
    "top10"
   ]
  },
  {
   "cell_type": "code",
   "execution_count": 46,
   "metadata": {
    "collapsed": true
   },
   "outputs": [
    {
     "data": {
      "text/html": [
       "<div>\n",
       "<style scoped>\n",
       "    .dataframe tbody tr th:only-of-type {\n",
       "        vertical-align: middle;\n",
       "    }\n",
       "\n",
       "    .dataframe tbody tr th {\n",
       "        vertical-align: top;\n",
       "    }\n",
       "\n",
       "    .dataframe thead th {\n",
       "        text-align: right;\n",
       "    }\n",
       "</style>\n",
       "<table border=\"1\" class=\"dataframe\">\n",
       "  <thead>\n",
       "    <tr style=\"text-align: right;\">\n",
       "      <th></th>\n",
       "      <th>original_title</th>\n",
       "      <th>revenue_adj</th>\n",
       "      <th>budget_adj</th>\n",
       "      <th>actual_revenue</th>\n",
       "    </tr>\n",
       "  </thead>\n",
       "  <tbody>\n",
       "    <tr>\n",
       "      <th>1329</th>\n",
       "      <td>Star Wars</td>\n",
       "      <td>2789712242</td>\n",
       "      <td>39575591</td>\n",
       "      <td>2750136651</td>\n",
       "    </tr>\n",
       "    <tr>\n",
       "      <th>1386</th>\n",
       "      <td>Avatar</td>\n",
       "      <td>2827123750</td>\n",
       "      <td>240886902</td>\n",
       "      <td>2586236848</td>\n",
       "    </tr>\n",
       "    <tr>\n",
       "      <th>5231</th>\n",
       "      <td>Titanic</td>\n",
       "      <td>2506405735</td>\n",
       "      <td>271692064</td>\n",
       "      <td>2234713671</td>\n",
       "    </tr>\n",
       "    <tr>\n",
       "      <th>10594</th>\n",
       "      <td>The Exorcist</td>\n",
       "      <td>2167324901</td>\n",
       "      <td>39289276</td>\n",
       "      <td>2128035625</td>\n",
       "    </tr>\n",
       "    <tr>\n",
       "      <th>9806</th>\n",
       "      <td>Jaws</td>\n",
       "      <td>1907005841</td>\n",
       "      <td>28362748</td>\n",
       "      <td>1878643093</td>\n",
       "    </tr>\n",
       "    <tr>\n",
       "      <th>8889</th>\n",
       "      <td>E.T. the Extra-Terrestrial</td>\n",
       "      <td>1791694309</td>\n",
       "      <td>23726245</td>\n",
       "      <td>1767968064</td>\n",
       "    </tr>\n",
       "    <tr>\n",
       "      <th>3</th>\n",
       "      <td>Star Wars: The Force Awakens</td>\n",
       "      <td>1902723129</td>\n",
       "      <td>183999919</td>\n",
       "      <td>1718723210</td>\n",
       "    </tr>\n",
       "    <tr>\n",
       "      <th>8094</th>\n",
       "      <td>The Net</td>\n",
       "      <td>1583049536</td>\n",
       "      <td>31481271</td>\n",
       "      <td>1551568265</td>\n",
       "    </tr>\n",
       "    <tr>\n",
       "      <th>10110</th>\n",
       "      <td>One Hundred and One Dalmatians</td>\n",
       "      <td>1574814739</td>\n",
       "      <td>29179444</td>\n",
       "      <td>1545635295</td>\n",
       "    </tr>\n",
       "    <tr>\n",
       "      <th>4361</th>\n",
       "      <td>The Avengers</td>\n",
       "      <td>1443191435</td>\n",
       "      <td>208943741</td>\n",
       "      <td>1234247694</td>\n",
       "    </tr>\n",
       "  </tbody>\n",
       "</table>\n",
       "</div>"
      ],
      "text/plain": [
       "                       original_title  revenue_adj  budget_adj  actual_revenue\n",
       "1329                        Star Wars   2789712242    39575591      2750136651\n",
       "1386                           Avatar   2827123750   240886902      2586236848\n",
       "5231                          Titanic   2506405735   271692064      2234713671\n",
       "10594                    The Exorcist   2167324901    39289276      2128035625\n",
       "9806                             Jaws   1907005841    28362748      1878643093\n",
       "8889       E.T. the Extra-Terrestrial   1791694309    23726245      1767968064\n",
       "3        Star Wars: The Force Awakens   1902723129   183999919      1718723210\n",
       "8094                          The Net   1583049536    31481271      1551568265\n",
       "10110  One Hundred and One Dalmatians   1574814739    29179444      1545635295\n",
       "4361                     The Avengers   1443191435   208943741      1234247694"
      ]
     },
     "execution_count": 46,
     "metadata": {},
     "output_type": "execute_result"
    }
   ],
   "source": [
    "top10 = top10.sort_values(by='actual_revenue', ascending=False)\n",
    "top10"
   ]
  },
  {
   "cell_type": "code",
   "execution_count": 47,
   "metadata": {
    "collapsed": true
   },
   "outputs": [
    {
     "data": {
      "image/png": "[encoded data removed]",
      "text/plain": [
       "<Figure size 720x360 with 1 Axes>"
      ]
     },
     "metadata": {
      "needs_background": "light"
     },
     "output_type": "display_data"
    }
   ],
   "source": [
    "# top 10 movies vs their actual_revenue\n",
    "plt.subplots(figsize=(10,5))\n",
    "plt.xticks(rotation='vertical')\n",
    "plt.bar(top10.original_title, top10.actual_revenue)\n",
    "plt.title(\"Top 10 Successful Movies At All Time\")\n",
    "plt.xlabel(\"Movie Name\")\n",
    "plt.ylabel(\"Movie Actual Revenue\");"
   ]
  },
  {
   "cell_type": "markdown",
   "metadata": {},
   "source": [
    "This is a list of the top 10 most successful movies over all time:\n",
    "- Star Wars\n",
    "- Avatar\n",
    "- Titanic\n",
    "- The Exorcist\n",
    "- Jaws\n",
    "- E.T. The Extra-Terrestrial\n",
    "- Star Wars: The Force Awakens\n",
    "- The Net\n",
    "- One Hundred and One Dalmatians\n",
    "- The Avengers"
   ]
  },
  {
   "cell_type": "markdown",
   "metadata": {},
   "source": [
    "<a id='conclusions'></a>\n",
    "## Conclusions"
   ]
  },
  {
   "cell_type": "markdown",
   "metadata": {},
   "source": [
    "### Reasoning/ Findings:\n",
    "- Over years, there has been a relation between movie genre and the revenues.\n",
    "- Animation movies have the max average value of movies revenues over years (257121500.2039801) followed by Advnature movies (218291850.8504673)\n",
    "- The following plot shows the movies revenues average for each genre over years.\n",
    "- There is a positive relation between Budget and Revenue.\n",
    "- Robert Downey Jr movies have the max average value of movies revenues over years (576750082.9090909) followed by 'Andrew Garfield movies (486448405.3333333)\n",
    "- Christopher McQuarrie movies have the max average value of movies revenues (450335367.0) followed by Seth MacFarlane movies (382615960.5).\n",
    "- Star Wars is the most successful movie at all time with atual revenue equal to (2750136650.9191761) followed by Avatar with atual revenue equal to (2586236847.524277\n"
   ]
  },
  {
   "cell_type": "markdown",
   "metadata": {},
   "source": [
    "### Limitations:\n",
    "- Data set has too few numerical data that could be used to do some statistical test.\n",
    "- Some columns of data sets has no clear refernce that can be categorised such as: cast and production_companies and genres.\n",
    "- The budget and revenue columns did not have a specific currency.\n",
    "- Rows with NaN values were dropped, hence a lot of key data might have been lost in the process.\n",
    "- There are a lot of crew members apart from the director, cast and the production companies who help in creating a movie like writers, screenplay writers, editors, etc. but there was no data to analyse those aspects."
   ]
  }
 ],
 "metadata": {
  "kernelspec": {
   "display_name": "Python 3",
   "language": "python",
   "name": "python3"
  },
  "language_info": {
   "codemirror_mode": {
    "name": "ipython",
    "version": 3
   },
   "file_extension": ".py",
   "mimetype": "text/x-python",
   "name": "python",
   "nbconvert_exporter": "python",
   "pygments_lexer": "ipython3",
   "version": "3.8.5"
  }
 },
 "nbformat": 4,
 "nbformat_minor": 2
}
